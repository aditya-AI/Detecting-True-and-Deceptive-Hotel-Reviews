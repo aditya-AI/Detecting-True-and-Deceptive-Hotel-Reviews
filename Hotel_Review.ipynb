{
 "cells": [
  {
   "cell_type": "markdown",
   "metadata": {},
   "source": [
    "# Import all required modules"
   ]
  },
  {
   "cell_type": "code",
   "execution_count": 25,
   "metadata": {
    "collapsed": false
   },
   "outputs": [],
   "source": [
    "import os\n",
    "import fnmatch\n",
    "from textblob import TextBlob\n",
    "import pandas as pd\n",
    "from sklearn.feature_extraction.text import CountVectorizer,TfidfTransformer,TfidfVectorizer\n",
    "from nltk.corpus import stopwords\n",
    "from nltk import pos_tag,pos_tag_sents\n",
    "import re\n",
    "import operator\n",
    "from sklearn.naive_bayes import MultinomialNB\n",
    "from sklearn.svm import SVC, LinearSVC\n",
    "from sklearn.metrics import classification_report, f1_score, accuracy_score, confusion_matrix\n",
    "from sklearn.cross_validation import StratifiedKFold, cross_val_score, train_test_split  \n",
    "from sklearn import metrics\n",
    "%matplotlib inline\n",
    "import matplotlib.pyplot as plt\n",
    "from sklearn import svm\n",
    "from sklearn.grid_search import GridSearchCV\n",
    "import pickle\n",
    "from nltk.corpus import stopwords"
   ]
  },
  {
   "cell_type": "markdown",
   "metadata": {},
   "source": [
    "# Fetch all text files from the path and extract the labels from it and create a dataframe of the labels"
   ]
  },
  {
   "cell_type": "code",
   "execution_count": 8,
   "metadata": {
    "collapsed": false
   },
   "outputs": [],
   "source": [
    "path = '/home/icecreamlabs/Documents/op_spam_train'\n",
    "\n",
    "save1 = []\n",
    "\n",
    "configfiles = [os.path.join(subdir,f)\n",
    "for subdir, dirs, files in os.walk(path)\n",
    "    for f in fnmatch.filter(files, '*.txt')]\n",
    "\n",
    "#print (configfiles)\n",
    "\n",
    "for f in configfiles:\n",
    "    c = re.search('(trut|deceptiv)\\w',f)\n",
    "    save1.append(c.group())\n",
    "\n",
    "labels = pd.DataFrame(save1, columns = ['Labels'])  \n",
    "#labels"
   ]
  },
  {
   "cell_type": "markdown",
   "metadata": {},
   "source": [
    "# Fetch all the reviews and append in a list"
   ]
  },
  {
   "cell_type": "code",
   "execution_count": 9,
   "metadata": {
    "collapsed": true
   },
   "outputs": [],
   "source": [
    "save = []\n",
    "directory =os.path.join(\"/home/icecreamlabs/Documents/op_spam_train\") \n",
    "for subdir,dirs ,files in os.walk(directory): \n",
    "   # print (subdir)\n",
    "    for file in files: \n",
    "        if fnmatch.filter(files, '*.txt'):\n",
    "            f=open(os.path.join(subdir, file),'r') \n",
    "            a = f.read() \n",
    "            #print (a)\n",
    "            save.append(a)         "
   ]
  },
  {
   "cell_type": "markdown",
   "metadata": {},
   "source": [
    "# Merge the review dataframe and label dataframe"
   ]
  },
  {
   "cell_type": "code",
   "execution_count": 10,
   "metadata": {
    "collapsed": false
   },
   "outputs": [
    {
     "data": {
      "text/html": [
       "<div>\n",
       "<table border=\"1\" class=\"dataframe\">\n",
       "  <thead>\n",
       "    <tr style=\"text-align: right;\">\n",
       "      <th></th>\n",
       "      <th>HotelReviews</th>\n",
       "      <th>Labels</th>\n",
       "    </tr>\n",
       "  </thead>\n",
       "  <tbody>\n",
       "    <tr>\n",
       "      <th>0</th>\n",
       "      <td>the conrad chicago hotel had some of the worst...</td>\n",
       "      <td>deceptive</td>\n",
       "    </tr>\n",
       "    <tr>\n",
       "      <th>1</th>\n",
       "      <td>overpriced is the best word to describe the co...</td>\n",
       "      <td>deceptive</td>\n",
       "    </tr>\n",
       "    <tr>\n",
       "      <th>2</th>\n",
       "      <td>there is a great difference between a hyatt re...</td>\n",
       "      <td>deceptive</td>\n",
       "    </tr>\n",
       "    <tr>\n",
       "      <th>3</th>\n",
       "      <td>i recently stayed at the hyatt regency chicago...</td>\n",
       "      <td>deceptive</td>\n",
       "    </tr>\n",
       "    <tr>\n",
       "      <th>4</th>\n",
       "      <td>this hotel is rather far from the airport and ...</td>\n",
       "      <td>deceptive</td>\n",
       "    </tr>\n",
       "  </tbody>\n",
       "</table>\n",
       "</div>"
      ],
      "text/plain": [
       "                                        HotelReviews     Labels\n",
       "0  the conrad chicago hotel had some of the worst...  deceptive\n",
       "1  overpriced is the best word to describe the co...  deceptive\n",
       "2  there is a great difference between a hyatt re...  deceptive\n",
       "3  i recently stayed at the hyatt regency chicago...  deceptive\n",
       "4  this hotel is rather far from the airport and ...  deceptive"
      ]
     },
     "execution_count": 10,
     "metadata": {},
     "output_type": "execute_result"
    }
   ],
   "source": [
    "reviews = pd.DataFrame(save, columns = ['HotelReviews'])\n",
    "\n",
    "\n",
    "result = pd.merge(reviews, labels,right_index=True,left_index = True)\n",
    "\n",
    "\n",
    "result['HotelReviews'] = result['HotelReviews'].map(lambda x: x.lower())\n",
    "result.head()"
   ]
  },
  {
   "cell_type": "markdown",
   "metadata": {},
   "source": [
    "# Remove stopwords from the Hotel Reviews column"
   ]
  },
  {
   "cell_type": "code",
   "execution_count": 11,
   "metadata": {
    "collapsed": false
   },
   "outputs": [
    {
     "data": {
      "text/html": [
       "<div>\n",
       "<table border=\"1\" class=\"dataframe\">\n",
       "  <thead>\n",
       "    <tr style=\"text-align: right;\">\n",
       "      <th></th>\n",
       "      <th>HotelReviews</th>\n",
       "      <th>Labels</th>\n",
       "      <th>review_without_stopwords</th>\n",
       "    </tr>\n",
       "  </thead>\n",
       "  <tbody>\n",
       "    <tr>\n",
       "      <th>0</th>\n",
       "      <td>the conrad chicago hotel had some of the worst...</td>\n",
       "      <td>deceptive</td>\n",
       "      <td>conrad chicago hotel worst service ever dealt ...</td>\n",
       "    </tr>\n",
       "    <tr>\n",
       "      <th>1</th>\n",
       "      <td>overpriced is the best word to describe the co...</td>\n",
       "      <td>deceptive</td>\n",
       "      <td>overpriced best word describe conrad chicago h...</td>\n",
       "    </tr>\n",
       "    <tr>\n",
       "      <th>2</th>\n",
       "      <td>there is a great difference between a hyatt re...</td>\n",
       "      <td>deceptive</td>\n",
       "      <td>great difference hyatt regency hotel, normal h...</td>\n",
       "    </tr>\n",
       "    <tr>\n",
       "      <th>3</th>\n",
       "      <td>i recently stayed at the hyatt regency chicago...</td>\n",
       "      <td>deceptive</td>\n",
       "      <td>recently stayed hyatt regency chicago hotel, d...</td>\n",
       "    </tr>\n",
       "    <tr>\n",
       "      <th>4</th>\n",
       "      <td>this hotel is rather far from the airport and ...</td>\n",
       "      <td>deceptive</td>\n",
       "      <td>hotel rather far airport traffic took almost 2...</td>\n",
       "    </tr>\n",
       "  </tbody>\n",
       "</table>\n",
       "</div>"
      ],
      "text/plain": [
       "                                        HotelReviews     Labels  \\\n",
       "0  the conrad chicago hotel had some of the worst...  deceptive   \n",
       "1  overpriced is the best word to describe the co...  deceptive   \n",
       "2  there is a great difference between a hyatt re...  deceptive   \n",
       "3  i recently stayed at the hyatt regency chicago...  deceptive   \n",
       "4  this hotel is rather far from the airport and ...  deceptive   \n",
       "\n",
       "                            review_without_stopwords  \n",
       "0  conrad chicago hotel worst service ever dealt ...  \n",
       "1  overpriced best word describe conrad chicago h...  \n",
       "2  great difference hyatt regency hotel, normal h...  \n",
       "3  recently stayed hyatt regency chicago hotel, d...  \n",
       "4  hotel rather far airport traffic took almost 2...  "
      ]
     },
     "execution_count": 11,
     "metadata": {},
     "output_type": "execute_result"
    }
   ],
   "source": [
    "stop = stopwords.words('english')\n",
    "\n",
    "result['review_without_stopwords'] = result['HotelReviews'].apply(lambda x: ' '.join([word for word in x.split() if word not in (stop)]))\n",
    "result.head()"
   ]
  },
  {
   "cell_type": "markdown",
   "metadata": {},
   "source": [
    "# Extract parts of speech from Hotel Reviews which will be fed as a Feature Input to the model"
   ]
  },
  {
   "cell_type": "code",
   "execution_count": 12,
   "metadata": {
    "collapsed": true
   },
   "outputs": [],
   "source": [
    "def pos(review_without_stopwords):\n",
    "    return TextBlob(review_without_stopwords).tags"
   ]
  },
  {
   "cell_type": "code",
   "execution_count": 13,
   "metadata": {
    "collapsed": true
   },
   "outputs": [],
   "source": [
    "os = result.review_without_stopwords.apply(pos)\n",
    "os1 = pd.DataFrame(os)"
   ]
  },
  {
   "cell_type": "code",
   "execution_count": 14,
   "metadata": {
    "collapsed": false
   },
   "outputs": [
    {
     "data": {
      "text/html": [
       "<div>\n",
       "<table border=\"1\" class=\"dataframe\">\n",
       "  <thead>\n",
       "    <tr style=\"text-align: right;\">\n",
       "      <th></th>\n",
       "      <th>HotelReviews</th>\n",
       "      <th>Labels</th>\n",
       "      <th>review_without_stopwords_x</th>\n",
       "      <th>review_without_stopwords_y</th>\n",
       "      <th>pos</th>\n",
       "    </tr>\n",
       "  </thead>\n",
       "  <tbody>\n",
       "    <tr>\n",
       "      <th>0</th>\n",
       "      <td>the conrad chicago hotel had some of the worst...</td>\n",
       "      <td>deceptive</td>\n",
       "      <td>conrad chicago hotel worst service ever dealt ...</td>\n",
       "      <td>[(conrad, NNS), (chicago, VBP), (hotel, NN), (...</td>\n",
       "      <td>conrad/NNS chicago/VBP hotel/NN worst/JJS serv...</td>\n",
       "    </tr>\n",
       "    <tr>\n",
       "      <th>1</th>\n",
       "      <td>overpriced is the best word to describe the co...</td>\n",
       "      <td>deceptive</td>\n",
       "      <td>overpriced best word describe conrad chicago h...</td>\n",
       "      <td>[(overpriced, VBN), (best, JJS), (word, NN), (...</td>\n",
       "      <td>overpriced/VBN best/JJS word/NN describe/NN co...</td>\n",
       "    </tr>\n",
       "    <tr>\n",
       "      <th>2</th>\n",
       "      <td>there is a great difference between a hyatt re...</td>\n",
       "      <td>deceptive</td>\n",
       "      <td>great difference hyatt regency hotel, normal h...</td>\n",
       "      <td>[(great, JJ), (difference, NN), (hyatt, JJ), (...</td>\n",
       "      <td>great/JJ difference/NN hyatt/JJ regency/NN hot...</td>\n",
       "    </tr>\n",
       "    <tr>\n",
       "      <th>3</th>\n",
       "      <td>i recently stayed at the hyatt regency chicago...</td>\n",
       "      <td>deceptive</td>\n",
       "      <td>recently stayed hyatt regency chicago hotel, d...</td>\n",
       "      <td>[(recently, RB), (stayed, VBN), (hyatt, NN), (...</td>\n",
       "      <td>recently/RB stayed/VBN hyatt/NN regency/NN chi...</td>\n",
       "    </tr>\n",
       "    <tr>\n",
       "      <th>4</th>\n",
       "      <td>this hotel is rather far from the airport and ...</td>\n",
       "      <td>deceptive</td>\n",
       "      <td>hotel rather far airport traffic took almost 2...</td>\n",
       "      <td>[(hotel, NN), (rather, RB), (far, RB), (airpor...</td>\n",
       "      <td>hotel/NN rather/RB far/RB airport/JJ traffic/N...</td>\n",
       "    </tr>\n",
       "  </tbody>\n",
       "</table>\n",
       "</div>"
      ],
      "text/plain": [
       "                                        HotelReviews     Labels  \\\n",
       "0  the conrad chicago hotel had some of the worst...  deceptive   \n",
       "1  overpriced is the best word to describe the co...  deceptive   \n",
       "2  there is a great difference between a hyatt re...  deceptive   \n",
       "3  i recently stayed at the hyatt regency chicago...  deceptive   \n",
       "4  this hotel is rather far from the airport and ...  deceptive   \n",
       "\n",
       "                          review_without_stopwords_x  \\\n",
       "0  conrad chicago hotel worst service ever dealt ...   \n",
       "1  overpriced best word describe conrad chicago h...   \n",
       "2  great difference hyatt regency hotel, normal h...   \n",
       "3  recently stayed hyatt regency chicago hotel, d...   \n",
       "4  hotel rather far airport traffic took almost 2...   \n",
       "\n",
       "                          review_without_stopwords_y  \\\n",
       "0  [(conrad, NNS), (chicago, VBP), (hotel, NN), (...   \n",
       "1  [(overpriced, VBN), (best, JJS), (word, NN), (...   \n",
       "2  [(great, JJ), (difference, NN), (hyatt, JJ), (...   \n",
       "3  [(recently, RB), (stayed, VBN), (hyatt, NN), (...   \n",
       "4  [(hotel, NN), (rather, RB), (far, RB), (airpor...   \n",
       "\n",
       "                                                 pos  \n",
       "0  conrad/NNS chicago/VBP hotel/NN worst/JJS serv...  \n",
       "1  overpriced/VBN best/JJS word/NN describe/NN co...  \n",
       "2  great/JJ difference/NN hyatt/JJ regency/NN hot...  \n",
       "3  recently/RB stayed/VBN hyatt/NN regency/NN chi...  \n",
       "4  hotel/NN rather/RB far/RB airport/JJ traffic/N...  "
      ]
     },
     "execution_count": 14,
     "metadata": {},
     "output_type": "execute_result"
    }
   ],
   "source": [
    "os1['pos'] = os1['review_without_stopwords'].map(lambda x:\" \".join([\"/\".join(x) for x in x ]) )\n",
    "result = result = pd.merge(result, os1,right_index=True,left_index = True)\n",
    "result.head()"
   ]
  },
  {
   "cell_type": "markdown",
   "metadata": {},
   "source": [
    "# Split the Data in to two parts 80% train and 20% test data"
   ]
  },
  {
   "cell_type": "code",
   "execution_count": 15,
   "metadata": {
    "collapsed": true
   },
   "outputs": [],
   "source": [
    "review_train, review_test, label_train, label_test = train_test_split(result['pos'],result['Labels'], test_size=0.2,random_state=42)"
   ]
  },
  {
   "cell_type": "markdown",
   "metadata": {},
   "source": [
    "# Vectorize the words using Tfidf, train the model using multinomial naive bayes and predict on the test data"
   ]
  },
  {
   "cell_type": "code",
   "execution_count": 16,
   "metadata": {
    "collapsed": false
   },
   "outputs": [
    {
     "data": {
      "text/plain": [
       "MultinomialNB(alpha=1.0, class_prior=None, fit_prior=True)"
      ]
     },
     "execution_count": 16,
     "metadata": {},
     "output_type": "execute_result"
    }
   ],
   "source": [
    "tf_vect = TfidfVectorizer(lowercase = True, use_idf=True, smooth_idf=True, sublinear_tf=False)\n",
    "\n",
    "X_train_tf = tf_vect.fit_transform(review_train)\n",
    "X_test_tf = tf_vect.transform(review_test)\n",
    "\n",
    "mnb = MultinomialNB()\n",
    "mnb.fit(X_train_tf, label_train)"
   ]
  },
  {
   "cell_type": "code",
   "execution_count": 17,
   "metadata": {
    "collapsed": true
   },
   "outputs": [],
   "source": [
    "pred = mnb.predict(X_test_tf)"
   ]
  },
  {
   "cell_type": "markdown",
   "metadata": {},
   "source": [
    "# Plot the confusion matrix, accuracy score and the classification report to analyse the performance of the model"
   ]
  },
  {
   "cell_type": "code",
   "execution_count": 18,
   "metadata": {
    "collapsed": false
   },
   "outputs": [
    {
     "name": "stdout",
     "output_type": "stream",
     "text": [
      "0.86875\n",
      "[[152  16]\n",
      " [ 26 126]]\n",
      "             precision    recall  f1-score   support\n",
      "\n",
      "  deceptive       0.85      0.90      0.88       168\n",
      "      truth       0.89      0.83      0.86       152\n",
      "\n",
      "avg / total       0.87      0.87      0.87       320\n",
      "\n"
     ]
    }
   ],
   "source": [
    "print(metrics.accuracy_score(label_test, pred))\n",
    "print (confusion_matrix(label_test, pred))\n",
    "print (classification_report(label_test, pred))"
   ]
  },
  {
   "cell_type": "markdown",
   "metadata": {},
   "source": [
    "# Test the model with reviews from yelp, the multinaive bayes fails to predict the review correctly since it predicts a deceptive review as truth"
   ]
  },
  {
   "cell_type": "code",
   "execution_count": 19,
   "metadata": {
    "collapsed": true
   },
   "outputs": [],
   "source": [
    "s = \"My family and I are huge fans of this place. The staff is super nice and the food is great. The chicken is very good and the garlic sauce is perfect. Ice cream topped with fruit is delicious too. Highly recommended!\""
   ]
  },
  {
   "cell_type": "code",
   "execution_count": 20,
   "metadata": {
    "collapsed": false
   },
   "outputs": [
    {
     "name": "stdout",
     "output_type": "stream",
     "text": [
      "['truth']\n"
     ]
    }
   ],
   "source": [
    "X_test_tf = tf_vect.transform([s])\n",
    "y_predict = mnb.predict(X_test_tf)\n",
    "print (y_predict)"
   ]
  },
  {
   "cell_type": "markdown",
   "metadata": {},
   "source": [
    "# Build an SVM classifier"
   ]
  },
  {
   "cell_type": "code",
   "execution_count": 21,
   "metadata": {
    "collapsed": true
   },
   "outputs": [],
   "source": [
    "review_train, review_test, label_train, label_test = train_test_split(result['review_without_stopwords_x'],result['Labels'], test_size=0.2,random_state=42)"
   ]
  },
  {
   "cell_type": "code",
   "execution_count": 22,
   "metadata": {
    "collapsed": true
   },
   "outputs": [],
   "source": [
    "tf_vect = TfidfVectorizer( stop_words = \"english\",  lowercase = True, use_idf=True, smooth_idf=True, sublinear_tf=False)\n",
    "\n",
    "\n",
    "X_train_tf1 = tf_vect.fit_transform(review_train)\n",
    "X_test_tf1 = tf_vect.transform(review_test)"
   ]
  },
  {
   "cell_type": "code",
   "execution_count": 26,
   "metadata": {
    "collapsed": false
   },
   "outputs": [],
   "source": [
    "with open('vectorizer.pickle', 'wb') as fin:\n",
    "    pickle.dump(tf_vect, fin)"
   ]
  },
  {
   "cell_type": "code",
   "execution_count": 27,
   "metadata": {
    "collapsed": true
   },
   "outputs": [],
   "source": [
    "def svc_param_selection(X, y, nfolds):\n",
    "    Cs = [0.001, 0.01, 0.1, 1, 10]\n",
    "    gammas = [0.001, 0.01, 0.1, 1]\n",
    "    param_grid = {'C': Cs, 'gamma' : gammas}\n",
    "    grid_search = GridSearchCV(svm.SVC(kernel='linear'), param_grid, cv=nfolds)\n",
    "    grid_search.fit(X, y)\n",
    "    grid_search.best_params_\n",
    "    return grid_search.best_params_"
   ]
  },
  {
   "cell_type": "code",
   "execution_count": 28,
   "metadata": {
    "collapsed": false
   },
   "outputs": [
    {
     "data": {
      "text/plain": [
       "{'C': 1, 'gamma': 0.001}"
      ]
     },
     "execution_count": 28,
     "metadata": {},
     "output_type": "execute_result"
    }
   ],
   "source": [
    "svc_param_selection(X_train_tf1,label_train,5)"
   ]
  },
  {
   "cell_type": "code",
   "execution_count": 31,
   "metadata": {
    "collapsed": false
   },
   "outputs": [],
   "source": [
    "clf = svm.SVC(C=10,gamma=0.001,kernel='linear')\n",
    "clf.fit(X_train_tf1,label_train)\n",
    "pred1 = clf.predict(X_test_tf1)"
   ]
  },
  {
   "cell_type": "markdown",
   "metadata": {},
   "source": [
    "# Save the model in pickle file and plot the accuracy score , confusion matrix and classification report"
   ]
  },
  {
   "cell_type": "code",
   "execution_count": 32,
   "metadata": {
    "collapsed": false
   },
   "outputs": [],
   "source": [
    "with open('mlmodel.pickle','wb') as f:\n",
    "    pickle.dump(clf,f)"
   ]
  },
  {
   "cell_type": "code",
   "execution_count": 37,
   "metadata": {
    "collapsed": false
   },
   "outputs": [
    {
     "name": "stdout",
     "output_type": "stream",
     "text": [
      "0.878125\n",
      "[[147  21]\n",
      " [ 18 134]]\n",
      "             precision    recall  f1-score   support\n",
      "\n",
      "  deceptive       0.89      0.88      0.88       168\n",
      "      truth       0.86      0.88      0.87       152\n",
      "\n",
      "avg / total       0.88      0.88      0.88       320\n",
      "\n"
     ]
    }
   ],
   "source": [
    "print(metrics.accuracy_score(label_test, pred1))\n",
    "print (confusion_matrix(label_test, pred1))\n",
    "print (classification_report(label_test, pred1))"
   ]
  },
  {
   "cell_type": "markdown",
   "metadata": {},
   "source": [
    "# Test the SVM model on 2 reviews from Yelp. The SVM model performs a lot better than Multi Naive Bayes since it predicts the labels for these 2 reviews correctly"
   ]
  },
  {
   "cell_type": "code",
   "execution_count": 34,
   "metadata": {
    "collapsed": true
   },
   "outputs": [],
   "source": [
    "def test_string(s):\n",
    "    X_test_tf = tf_vect.transform([s])\n",
    "    #print(tf_vect.get_feature_names())\n",
    "    y_predict = clf.predict(X_test_tf)\n",
    "    return y_predict"
   ]
  },
  {
   "cell_type": "code",
   "execution_count": 35,
   "metadata": {
    "collapsed": false
   },
   "outputs": [
    {
     "data": {
      "text/plain": [
       "array(['truth'], dtype=object)"
      ]
     },
     "execution_count": 35,
     "metadata": {},
     "output_type": "execute_result"
    }
   ],
   "source": [
    "test_string(\"The hotel was good.The room had a 27 inch samsung led tv, a microwave.The room had a double bed\")"
   ]
  },
  {
   "cell_type": "code",
   "execution_count": 36,
   "metadata": {
    "collapsed": false
   },
   "outputs": [
    {
     "data": {
      "text/plain": [
       "array(['deceptive'], dtype=object)"
      ]
     },
     "execution_count": 36,
     "metadata": {},
     "output_type": "execute_result"
    }
   ],
   "source": [
    "test_string(\"My family and I are huge fans of this place. The staff is super nice and the food is great. The chicken is very good and the garlic sauce is perfect. Ice cream topped with fruit is delicious too. Highly recommended!\")"
   ]
  },
  {
   "cell_type": "code",
   "execution_count": 3,
   "metadata": {
    "collapsed": true
   },
   "outputs": [],
   "source": []
  }
 ],
 "metadata": {
  "anaconda-cloud": {},
  "kernelspec": {
   "display_name": "Python [default]",
   "language": "python",
   "name": "python3"
  },
  "language_info": {
   "codemirror_mode": {
    "name": "ipython",
    "version": 3
   },
   "file_extension": ".py",
   "mimetype": "text/x-python",
   "name": "python",
   "nbconvert_exporter": "python",
   "pygments_lexer": "ipython3",
   "version": "3.5.2"
  }
 },
 "nbformat": 4,
 "nbformat_minor": 2
}
